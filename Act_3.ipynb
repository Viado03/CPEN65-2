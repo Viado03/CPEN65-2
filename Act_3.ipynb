{
  "nbformat": 4,
  "nbformat_minor": 0,
  "metadata": {
    "colab": {
      "provenance": [],
      "collapsed_sections": [],
      "authorship_tag": "ABX9TyPa4l5YdrrbdhflEr394fu0",
      "include_colab_link": true
    },
    "kernelspec": {
      "name": "python3",
      "display_name": "Python 3"
    },
    "language_info": {
      "name": "python"
    }
  },
  "cells": [
    {
      "cell_type": "markdown",
      "metadata": {
        "id": "view-in-github",
        "colab_type": "text"
      },
      "source": [
        "<a href=\"https://colab.research.google.com/github/ViadoJhonArvin/CPEN65-2/blob/main/Act_3.ipynb\" target=\"_parent\"><img src=\"https://colab.research.google.com/assets/colab-badge.svg\" alt=\"Open In Colab\"/></a>"
      ]
    },
    {
      "cell_type": "code",
      "execution_count": 15,
      "metadata": {
        "colab": {
          "base_uri": "https://localhost:8080/"
        },
        "id": "krtRI8vF0668",
        "outputId": "f64fa36b-9b3e-4f94-bfae-912bcad5fd9b"
      },
      "outputs": [
        {
          "output_type": "stream",
          "name": "stdout",
          "text": [
            "Viado\n",
            "Jhon\n",
            "Arvin\n"
          ]
        }
      ],
      "source": [
        "#Create a python program that use array\n",
        "#Insert each character of your full name and displays each character of your fullname in reverse order\n",
        "\n",
        "name = [\"Viado\",\"Jhon\",\"Arvin\"]\n",
        "x = name[0]\n",
        "y = name[1]\n",
        "z = name[2]\n",
        "\n",
        "print(x)\n",
        "print(y)\n",
        "print(z)\n"
      ]
    },
    {
      "cell_type": "code",
      "source": [
        "#Initializing array\n",
        "name = [\"Viado\", \"Jhon\", \"Arvin\"]\n",
        "print(\"The name: \");\n",
        "for i in range(0, len(name)):\n",
        "  print(name[i])\n",
        "\n",
        "#Loop through the array in reverse order\n",
        "print(\"Name in reverse order:\");\n",
        "for i in range(len(name)-1, -1, -1):\n",
        "  print(name[i])\n"
      ],
      "metadata": {
        "colab": {
          "base_uri": "https://localhost:8080/"
        },
        "id": "ppoMOGDUq7k4",
        "outputId": "2d998420-5600-49db-d51f-52a758d1fdfd"
      },
      "execution_count": 22,
      "outputs": [
        {
          "output_type": "stream",
          "name": "stdout",
          "text": [
            "The name: \n",
            "Viado\n",
            "Jhon\n",
            "Arvin\n",
            "Name in reverse order:\n",
            "Arvin\n",
            "Jhon\n",
            "Viado\n"
          ]
        }
      ]
    }
  ]
}